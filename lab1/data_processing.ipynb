{
 "cells": [
  {
   "cell_type": "code",
   "execution_count": 1,
   "id": "initial_id",
   "metadata": {
    "ExecuteTime": {
     "end_time": "2025-09-19T05:22:04.969367Z",
     "start_time": "2025-09-19T05:22:03.454640Z"
    }
   },
   "outputs": [],
   "source": [
    "import json\n",
    "import pandas as pd\n",
    "from pathlib import Path\n",
    "from tqdm import tqdm\n",
    "\n",
    "from python import converter"
   ]
  },
  {
   "cell_type": "code",
   "execution_count": 2,
   "id": "25dd13f5ed3112b6",
   "metadata": {
    "ExecuteTime": {
     "end_time": "2025-09-19T05:22:05.008016Z",
     "start_time": "2025-09-19T05:22:04.986936Z"
    }
   },
   "outputs": [],
   "source": [
    "INPUT_DIR = Path(\"data/raw\")\n",
    "INPUT_CSV_FILE = INPUT_DIR / \"UrbanSound8K.csv\"\n",
    "\n",
    "OUTPUT_DIR = Path(\"data/processed\")\n",
    "OUTPUT_CLASSES_FILE = OUTPUT_DIR / \"classes.json\""
   ]
  },
  {
   "cell_type": "code",
   "execution_count": 3,
   "id": "be64f908dcb7bfc9",
   "metadata": {
    "ExecuteTime": {
     "end_time": "2025-09-19T05:22:05.056193Z",
     "start_time": "2025-09-19T05:22:05.016909Z"
    }
   },
   "outputs": [
    {
     "name": "stdout",
     "output_type": "stream",
     "text": [
      "<class 'pandas.core.frame.DataFrame'>\n",
      "RangeIndex: 8732 entries, 0 to 8731\n",
      "Data columns (total 3 columns):\n",
      " #   Column           Non-Null Count  Dtype \n",
      "---  ------           --------------  ----- \n",
      " 0   slice_file_name  8732 non-null   object\n",
      " 1   classID          8732 non-null   int64 \n",
      " 2   class            8732 non-null   object\n",
      "dtypes: int64(1), object(2)\n",
      "memory usage: 204.8+ KB\n"
     ]
    }
   ],
   "source": [
    "df = pd.read_csv(INPUT_CSV_FILE)\n",
    "df = df[['slice_file_name', 'classID', 'class']]\n",
    "\n",
    "df.info()"
   ]
  },
  {
   "cell_type": "code",
   "execution_count": 4,
   "id": "31ab76c21c7cc0b3",
   "metadata": {
    "ExecuteTime": {
     "end_time": "2025-09-19T05:22:05.124263Z",
     "start_time": "2025-09-19T05:22:05.108958Z"
    }
   },
   "outputs": [],
   "source": [
    "class_names = (\n",
    "    df[['classID', 'class']]\n",
    "    .drop_duplicates()\n",
    "    .sort_values(by='classID')['class']\n",
    "    .to_list()\n",
    ")\n",
    "\n",
    "OUTPUT_DIR.mkdir(parents=True, exist_ok=True)\n",
    "with open(OUTPUT_CLASSES_FILE, 'w') as f:\n",
    "    json.dump(class_names, f, indent=4)"
   ]
  },
  {
   "cell_type": "code",
   "execution_count": 5,
   "id": "339e49f4174b93cc",
   "metadata": {
    "ExecuteTime": {
     "end_time": "2025-09-19T05:22:05.173252Z",
     "start_time": "2025-09-19T05:22:05.157109Z"
    }
   },
   "outputs": [],
   "source": [
    "def get_file_class_name(file_name):\n",
    "    return df[df['slice_file_name'] == file_name].iloc[0]['class']"
   ]
  },
  {
   "cell_type": "code",
   "execution_count": 6,
   "id": "b610205ab0cb203b",
   "metadata": {
    "ExecuteTime": {
     "end_time": "2025-09-19T05:22:09.434542Z",
     "start_time": "2025-09-19T05:22:05.194818Z"
    }
   },
   "outputs": [],
   "source": [
    "tasks = []\n",
    "\n",
    "for i in range(1, 11, 2):\n",
    "    fold_a = INPUT_DIR / f\"fold{i}\"\n",
    "    fold_b = INPUT_DIR / f\"fold{i+1}\"\n",
    "    fold_dir = OUTPUT_DIR / f\"cv{(i+1)//2}\"\n",
    "    for class_name in class_names:\n",
    "        class_dir = fold_dir / class_name\n",
    "        class_dir.mkdir(parents=True, exist_ok=True)\n",
    "\n",
    "    for folder in [fold_a, fold_b]:\n",
    "        for file in folder.iterdir():\n",
    "            if file.suffix == \".wav\":\n",
    "                wav_path = file\n",
    "                file_class = get_file_class_name(file.name)\n",
    "                img_name = file.stem + \".png\"\n",
    "                img_path = fold_dir / file_class / img_name\n",
    "                tasks.append((wav_path, img_path))\n",
    "            else:\n",
    "                print(f\"Unexpected file type: {file}\")"
   ]
  },
  {
   "cell_type": "code",
   "execution_count": 7,
   "id": "a8adc18a408cf052",
   "metadata": {},
   "outputs": [
    {
     "name": "stderr",
     "output_type": "stream",
     "text": [
      "Converting to spectrograms: 100%|███████████████████████████████████████████████████████████████████████████████████████████████████████████████████████████████████████████████████████| 8732/8732 [10:23<00:00, 14.00it/s]\n"
     ]
    }
   ],
   "source": [
    "for wav_path, img_path in tqdm(tasks, desc=\"Converting to spectrograms\"):\n",
    "    converter.wav_to_spectrogram(wav_path, img_path)"
   ]
  }
 ],
 "metadata": {
  "kernelspec": {
   "display_name": "Python 3 (ipykernel)",
   "language": "python",
   "name": "python3"
  },
  "language_info": {
   "codemirror_mode": {
    "name": "ipython",
    "version": 3
   },
   "file_extension": ".py",
   "mimetype": "text/x-python",
   "name": "python",
   "nbconvert_exporter": "python",
   "pygments_lexer": "ipython3",
   "version": "3.9.13"
  }
 },
 "nbformat": 4,
 "nbformat_minor": 5
}
